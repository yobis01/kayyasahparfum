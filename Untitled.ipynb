{
 "cells": [
  {
   "cell_type": "code",
   "execution_count": 4,
   "id": "6de70d3a-aa0e-40de-b32a-f3469b0523f6",
   "metadata": {},
   "outputs": [
    {
     "name": "stdout",
     "output_type": "stream",
     "text": [
      "  Tanggal_Transaksi               Nama_biaya  jumlah_Tambahpajak  VAT_Amount  \\\n",
      "0        2022-12-31     Biaya Pembayaran\\n\\n              -637.0        63.0   \n",
      "1        2022-12-31          Omset Penjualan             35000.0         0.0   \n",
      "2        2022-12-31                   Komisi              -237.0        23.0   \n",
      "3        2022-12-31  Biaya Free Shipping Max             -1223.0       121.0   \n",
      "4        2022-12-31     Biaya Pembayaran\\n\\n              -362.0        36.0   \n",
      "\n",
      "   Status_Pelepasan_Dana Tanggal_Dilepas     Nomor_Pesanan        ID_Pesanan  \\\n",
      "0  Dilepas ke Saldo Toko     01 Jan 2023  1029606958882486  1029606958982486   \n",
      "1  Dilepas ke Saldo Toko     01 Jan 2023  1029606958882486  1029606958982486   \n",
      "2  Dilepas ke Saldo Toko     01 Jan 2023  1029606958882486  1029606958982486   \n",
      "3  Dilepas ke Saldo Toko     01 Jan 2023  1029606958882486  1029606958982486   \n",
      "4  Dilepas ke Saldo Toko     01 Jan 2023  1023147215521347  1023147215621347   \n",
      "\n",
      "  SKU_Penjual Status_Pesanan  \\\n",
      "0     PRVRW50   Dikonfirmasi   \n",
      "1     PRVRW50   Dikonfirmasi   \n",
      "2     PRVRW50   Dikonfirmasi   \n",
      "3     PRVRW50   Dikonfirmasi   \n",
      "4    PRSFT-30   Dikonfirmasi   \n",
      "\n",
      "                                         Nama_Produk  \n",
      "0  Parfum Refill Victoria Romantic Wish 30-50ml W...  \n",
      "1  Parfum Refill Victoria Romantic Wish 30-50ml W...  \n",
      "2  Parfum Refill Victoria Romantic Wish 30-50ml W...  \n",
      "3  Parfum Refill Victoria Romantic Wish 30-50ml W...  \n",
      "4  Parfum Refill Soft 30-50ml Unisex Non-Alkohol ...  \n"
     ]
    },
    {
     "ename": "MemoryError",
     "evalue": "",
     "output_type": "error",
     "traceback": [
      "\u001b[1;31m---------------------------------------------------------------------------\u001b[0m",
      "\u001b[1;31mMemoryError\u001b[0m                               Traceback (most recent call last)",
      "Cell \u001b[1;32mIn[4], line 19\u001b[0m\n\u001b[0;32m     16\u001b[0m basket \u001b[38;5;241m=\u001b[39m basket\u001b[38;5;241m.\u001b[39mastype(\u001b[38;5;28mbool\u001b[39m)\n\u001b[0;32m     18\u001b[0m \u001b[38;5;66;03m# Apply FP-Growth algorithm\u001b[39;00m\n\u001b[1;32m---> 19\u001b[0m frequent_itemsets \u001b[38;5;241m=\u001b[39m \u001b[43mfpgrowth\u001b[49m\u001b[43m(\u001b[49m\u001b[43mbasket\u001b[49m\u001b[43m,\u001b[49m\u001b[43m \u001b[49m\u001b[43mmin_support\u001b[49m\u001b[38;5;241;43m=\u001b[39;49m\u001b[38;5;241;43m0.01\u001b[39;49m\u001b[43m,\u001b[49m\u001b[43m \u001b[49m\u001b[43muse_colnames\u001b[49m\u001b[38;5;241;43m=\u001b[39;49m\u001b[38;5;28;43;01mTrue\u001b[39;49;00m\u001b[43m)\u001b[49m\n\u001b[0;32m     21\u001b[0m \u001b[38;5;66;03m# Generate association rules\u001b[39;00m\n\u001b[0;32m     22\u001b[0m rules \u001b[38;5;241m=\u001b[39m association_rules(frequent_itemsets, metric\u001b[38;5;241m=\u001b[39m\u001b[38;5;124m\"\u001b[39m\u001b[38;5;124mlift\u001b[39m\u001b[38;5;124m\"\u001b[39m, min_threshold\u001b[38;5;241m=\u001b[39m\u001b[38;5;241m1\u001b[39m)\n",
      "File \u001b[1;32mC:\\Python312\\Lib\\site-packages\\mlxtend\\frequent_patterns\\fpgrowth.py:90\u001b[0m, in \u001b[0;36mfpgrowth\u001b[1;34m(df, min_support, use_colnames, max_len, verbose)\u001b[0m\n\u001b[0;32m     87\u001b[0m minsup \u001b[38;5;241m=\u001b[39m math\u001b[38;5;241m.\u001b[39mceil(min_support \u001b[38;5;241m*\u001b[39m \u001b[38;5;28mlen\u001b[39m(df\u001b[38;5;241m.\u001b[39mindex))  \u001b[38;5;66;03m# min support as count\u001b[39;00m\n\u001b[0;32m     88\u001b[0m generator \u001b[38;5;241m=\u001b[39m fpg_step(tree, minsup, colname_map, max_len, verbose)\n\u001b[1;32m---> 90\u001b[0m \u001b[38;5;28;01mreturn\u001b[39;00m \u001b[43mfpc\u001b[49m\u001b[38;5;241;43m.\u001b[39;49m\u001b[43mgenerate_itemsets\u001b[49m\u001b[43m(\u001b[49m\u001b[43mgenerator\u001b[49m\u001b[43m,\u001b[49m\u001b[43m \u001b[49m\u001b[38;5;28;43mlen\u001b[39;49m\u001b[43m(\u001b[49m\u001b[43mdf\u001b[49m\u001b[38;5;241;43m.\u001b[39;49m\u001b[43mindex\u001b[49m\u001b[43m)\u001b[49m\u001b[43m,\u001b[49m\u001b[43m \u001b[49m\u001b[43mcolname_map\u001b[49m\u001b[43m)\u001b[49m\n",
      "File \u001b[1;32mC:\\Python312\\Lib\\site-packages\\mlxtend\\frequent_patterns\\fpcommon.py:68\u001b[0m, in \u001b[0;36mgenerate_itemsets\u001b[1;34m(generator, num_itemsets, colname_map)\u001b[0m\n\u001b[0;32m     66\u001b[0m supports \u001b[38;5;241m=\u001b[39m []\n\u001b[0;32m     67\u001b[0m \u001b[38;5;28;01mfor\u001b[39;00m sup, iset \u001b[38;5;129;01min\u001b[39;00m generator:\n\u001b[1;32m---> 68\u001b[0m     \u001b[43mitemsets\u001b[49m\u001b[38;5;241;43m.\u001b[39;49m\u001b[43mappend\u001b[49m\u001b[43m(\u001b[49m\u001b[38;5;28;43mfrozenset\u001b[39;49m\u001b[43m(\u001b[49m\u001b[43miset\u001b[49m\u001b[43m)\u001b[49m\u001b[43m)\u001b[49m\n\u001b[0;32m     69\u001b[0m     supports\u001b[38;5;241m.\u001b[39mappend(sup \u001b[38;5;241m/\u001b[39m num_itemsets)\n\u001b[0;32m     71\u001b[0m res_df \u001b[38;5;241m=\u001b[39m pd\u001b[38;5;241m.\u001b[39mDataFrame({\u001b[38;5;124m\"\u001b[39m\u001b[38;5;124msupport\u001b[39m\u001b[38;5;124m\"\u001b[39m: supports, \u001b[38;5;124m\"\u001b[39m\u001b[38;5;124mitemsets\u001b[39m\u001b[38;5;124m\"\u001b[39m: itemsets})\n",
      "\u001b[1;31mMemoryError\u001b[0m: "
     ]
    }
   ],
   "source": [
    "import pandas as pd\n",
    "from mlxtend.frequent_patterns import fpgrowth, association_rules\n",
    "\n",
    "# Load the dataset\n",
    "file_path = 'dataset.xlsx'  # Replace with your actual file path\n",
    "data = pd.read_excel(file_path, sheet_name='Sheet1')\n",
    "\n",
    "# Display the first few rows of the dataset\n",
    "print(data.head())\n",
    "\n",
    "# Prepare the data for FP-Growth\n",
    "# Create a basket format for the transactional data\n",
    "basket = data.groupby(['Tanggal_Transaksi', 'Nama_Produk'])['Nama_Produk'].count().unstack().reset_index().fillna(0).set_index('Tanggal_Transaksi')\n",
    "\n",
    "# Convert values to boolean\n",
    "basket = basket.astype(bool)\n",
    "\n",
    "# Apply FP-Growth algorithm\n",
    "frequent_itemsets = fpgrowth(basket, min_support=0.01, use_colnames=True)\n",
    "\n",
    "# Generate association rules\n",
    "rules = association_rules(frequent_itemsets, metric=\"lift\", min_threshold=1)\n",
    "\n",
    "# Display the rules\n",
    "print(rules.head())\n",
    "\n",
    "# Save the rules to a CSV file with a different name or path\n",
    "rules.to_csv('association_rules_new.csv', index=False)\n",
    "\n"
   ]
  },
  {
   "cell_type": "code",
   "execution_count": null,
   "id": "04ebef7f-c2c9-4e6b-8e4b-8d7952d616aa",
   "metadata": {},
   "outputs": [],
   "source": []
  }
 ],
 "metadata": {
  "kernelspec": {
   "display_name": "Python 3 (ipykernel)",
   "language": "python",
   "name": "python3"
  },
  "language_info": {
   "codemirror_mode": {
    "name": "ipython",
    "version": 3
   },
   "file_extension": ".py",
   "mimetype": "text/x-python",
   "name": "python",
   "nbconvert_exporter": "python",
   "pygments_lexer": "ipython3",
   "version": "3.12.2"
  }
 },
 "nbformat": 4,
 "nbformat_minor": 5
}
